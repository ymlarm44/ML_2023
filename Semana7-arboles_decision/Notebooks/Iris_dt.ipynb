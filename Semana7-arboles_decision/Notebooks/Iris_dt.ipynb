{
 "cells": [
  {
   "cell_type": "code",
   "execution_count": null,
   "id": "eed2b555-83c0-4671-becd-e9a0eca9f1af",
   "metadata": {},
   "outputs": [],
   "source": [
    "from sklearn.datasets import load_iris\n",
    "from sklearn.tree import DecisionTreeClassifier\n",
    "from sklearn.tree import export_graphviz\n",
    "from graphviz import Source\n",
    "import matplotlib.pyplot as plt\n",
    "from utiles import plot_decision_boundary\n",
    "import pandas as pd\n",
    "import numpy as np"
   ]
  },
  {
   "cell_type": "markdown",
   "id": "29beb8fc-82c9-46b7-b520-13221259ad6a",
   "metadata": {},
   "source": [
    "# Árboles de decisión"
   ]
  },
  {
   "cell_type": "markdown",
   "id": "32f8aa0e-7274-452e-8346-d510c4add783",
   "metadata": {},
   "source": [
    "Los _árboles de decisión_ son algoritmos de Machine learning capaces de realizar tareas de clasificación y regresión. El algoritmo **CART** (_Classification and Regression Tree_) es el implementado por scikit-learn para el entrenamiento de los árboles de decisión. Este produce sólo _árboles binarios_"
   ]
  },
  {
   "cell_type": "markdown",
   "id": "d48bda17",
   "metadata": {},
   "source": [
    "Los árboles resultantes son monotécnicos: árboles cuyas regiones de decisión están dadas por segmentos de rectas que siempre son perpendiculares a uno de los ejes de características.\n",
    "\n",
    "Se prefieren los árboles simples y con menor número de nodos. La idea es buscar una medida en cada nodo de modo que los datos en los nodos hijos sean lo más puros posibles.\n",
    "\n",
    "La impureza está relacionado a la cantidad de instancias que corresponden a distintas clases en el nodo. Sea $i(N)$ la impureza en el nodo N:\n",
    "\n",
    "- $i(N)$ será 0 si todos los patrones que están presentes en el nodo pertenecen a la misma clase.\n",
    "- $i(N)$ será máxima si hay igual cantidad de instancias de cada clase.\n",
    "\n",
    "\n",
    "Con el algoritmo de estos clasificadores, iniciamos en la raiz del árbol y dividimos los datos teniendo en cuenta la característica que resulte en la mayor ganancia de información (IG). Mediante este proceso, continúa dividiendo cada nodo hijo hasta llegar a nodos hojas puros (es decir las muestras en estos nodos pertenecen a una sola clase), no quedan más características para continuar dividiendo o no quedan más instancias.\n",
    "\n",
    "Esto en la práctica puede dar como resultado árboles profundos con muchos nodos, lo cual facilmente lleva al sobreajuste. Por esta razón, se suele realizar una poda (prune) para limitar la profundidad del árbol."
   ]
  },
  {
   "cell_type": "markdown",
   "id": "5204f844",
   "metadata": {},
   "source": [
    "## Ganancia de Información (IG)\n",
    "\n",
    "Función objetivo que se busca maximizar al dividir un nodo.\n",
    "\n",
    "$$IG(S_p,f)=I(S_P)-\\sum\\limits_{j=1}^{N_j}\\frac{N_j}{N_p}I(S_j)$$\n",
    "\n",
    "$f$: es la característica que se usa para hacer la división\n",
    "\n",
    "$S_p$ y  $S_j$: son los conjuntos de datos del nodo padre y el *j-èsimo* nodo hijo.\n",
    "\n",
    "$I$: es la medida de impureza.\n",
    "\n",
    "$N_p$: es el número total de muestras de entrenamiento en el nodo padre.\n",
    "\n",
    "$N_j$: es el número de muestras en el *j-èsimo* nodo hijo.\n",
    "\n",
    "> La ganancia de información es sólo la diferencia entre la impureza del nodo padre y la suma de las impurezas de los nodos hijos. A menor impureza en los nodos hijos, mayor ganancia de información."
   ]
  },
  {
   "cell_type": "markdown",
   "id": "0b25c325",
   "metadata": {},
   "source": [
    "## Entropía (impureza de entropía)\n",
    "\n",
    "$$I_H(t) = -\\sum\\limits_{i=1}^{c}\\frac{S_i}{S_p}log_2\\frac{S_i}{S_p}$$"
   ]
  },
  {
   "cell_type": "markdown",
   "id": "5b847f6b",
   "metadata": {},
   "source": [
    "## Impureza de Gini\n",
    "\n",
    "$$I_G(t)=1-\\sum\\limits_{i=1}^{c}p(i)^2$$"
   ]
  },
  {
   "cell_type": "code",
   "execution_count": null,
   "id": "850c1bf8-1f4e-4c71-acbb-c2467a261644",
   "metadata": {},
   "outputs": [],
   "source": [
    "iris = load_iris()"
   ]
  },
  {
   "cell_type": "code",
   "execution_count": null,
   "id": "d56b7f87-12bc-4430-a48b-23eb9c3206b1",
   "metadata": {},
   "outputs": [],
   "source": [
    "print(iris.target_names)\n",
    "print(iris.feature_names)"
   ]
  },
  {
   "cell_type": "code",
   "execution_count": null,
   "id": "2653e573",
   "metadata": {},
   "outputs": [],
   "source": [
    "X = iris.data[:,[2,3]] #'petal length (cm)', 'petal width (cm)'\n",
    "y = iris.target\n",
    "X.shape"
   ]
  },
  {
   "cell_type": "code",
   "execution_count": null,
   "id": "1bc0ad99",
   "metadata": {},
   "outputs": [],
   "source": [
    "plt.figure(figsize=(12, 7))\n",
    "plt.scatter(X[:50,0], X[:50,1], color='red', marker='o', label='setosa')\n",
    "plt.scatter(X[50:100,0], X[50:100,1], color='blue', marker='x', label='versicolor')\n",
    "plt.scatter(X[100:150,0], X[100:150,1], color='green', marker='*', label='virginica')\n",
    "plt.xlabel('x1-petal length (cm)')\n",
    "plt.ylabel('x2-petal width (cm)')\n",
    "plt.legend(loc='upper left')\n",
    "plt.grid()\n",
    "plt.show()"
   ]
  },
  {
   "cell_type": "markdown",
   "id": "8dc19f48",
   "metadata": {},
   "source": [
    "Documentación [DecisionTreeClassifier](https://scikit-learn.org/stable/modules/generated/sklearn.tree.DecisionTreeClassifier.html)"
   ]
  },
  {
   "cell_type": "code",
   "execution_count": null,
   "id": "b2a5f6c8-2d2f-4a83-bf2c-cd57914077e1",
   "metadata": {},
   "outputs": [],
   "source": [
    "tree_clf = DecisionTreeClassifier(max_depth=2, random_state=42)\n",
    "tree_clf.fit(X,y)"
   ]
  },
  {
   "cell_type": "code",
   "execution_count": null,
   "id": "b4814e8d-861d-44da-b1ab-ce0a645f07ba",
   "metadata": {},
   "outputs": [],
   "source": [
    "from sklearn import tree\n",
    "\n",
    "tree.plot_tree(tree_clf,\n",
    "               filled=True,\n",
    "               rounded=True,\n",
    "               class_names=['setosa', 'versicolor', 'virginica'],\n",
    "               feature_names=iris.feature_names[2:]\n",
    "               )\n",
    "plt.show()"
   ]
  },
  {
   "cell_type": "markdown",
   "id": "d9fd6e44-5df1-49b3-af73-bcd41f1c7e07",
   "metadata": {},
   "source": [
    "Instalador:\n",
    "https://www.graphviz.org/download/"
   ]
  },
  {
   "cell_type": "code",
   "execution_count": null,
   "id": "7aa6dc7b-2285-4ca9-8390-d8cb2daef44b",
   "metadata": {},
   "outputs": [],
   "source": [
    "dot_data = export_graphviz(\n",
    "        tree_clf,\n",
    "        feature_names= iris.feature_names[2:],\n",
    "        class_names= iris.target_names,\n",
    "        rounded=True,\n",
    "        filled=True,\n",
    ")\n",
    "graph = Source(dot_data)  \n",
    "graph"
   ]
  },
  {
   "cell_type": "code",
   "execution_count": null,
   "id": "e095d955-fe76-4817-b13b-01e2293c615b",
   "metadata": {},
   "outputs": [],
   "source": [
    "plt.figure(figsize=(12, 7))\n",
    "plot_decision_boundary(tree_clf, X, y, legend=True)\n",
    "plt.plot([2.45, 2.45], [0, 3], \"k-\", linewidth=2)\n",
    "plt.plot([2.45, 7.5], [1.75, 1.75], \"k--\", linewidth=2)\n",
    "plt.text(1.40, 1.0, \"Depth=0\", fontsize=15)\n",
    "plt.text(3.2, 1.80, \"Depth=1\", fontsize=13)\n",
    "plt.show()"
   ]
  },
  {
   "cell_type": "code",
   "execution_count": null,
   "id": "57c2d2f8-5f11-4487-95f0-be9a7b776f61",
   "metadata": {},
   "outputs": [],
   "source": [
    "tree_clf = DecisionTreeClassifier(max_depth=3, random_state=42)\n",
    "tree_clf.fit(X,y)\n",
    "\n",
    "dot_data = export_graphviz(\n",
    "        tree_clf,\n",
    "        feature_names= iris.feature_names[2:],\n",
    "        class_names= iris.target_names,\n",
    "        rounded=True,\n",
    "        filled=True,\n",
    ")\n",
    "graph = Source(dot_data)  \n",
    "graph"
   ]
  },
  {
   "cell_type": "code",
   "execution_count": null,
   "id": "45b95a04",
   "metadata": {},
   "outputs": [],
   "source": [
    "plt.figure(figsize=(12, 7))\n",
    "plot_decision_boundary(tree_clf, X, y, legend=True)\n",
    "plt.plot([2.45, 2.45], [0, 3], \"k-\", linewidth=2)\n",
    "plt.plot([2.45, 7.5], [1.75, 1.75], \"k--\", linewidth=2)\n",
    "plt.plot([4.95, 4.95], [0, 1.75], \"k:\", linewidth=2)\n",
    "plt.plot([4.85, 4.85], [1.75, 3], \"k:\", linewidth=2)\n",
    "plt.text(1.40, 1.0, \"Depth=0\", fontsize=15)\n",
    "plt.text(3.2, 1.80, \"Depth=1\", fontsize=13)\n",
    "plt.text(4.05, 0.5, \"(Depth=2)\", fontsize=11)\n",
    "plt.show()"
   ]
  },
  {
   "cell_type": "markdown",
   "id": "e2e07fa3",
   "metadata": {},
   "source": [
    "# Entregable\n",
    "En la siguiente tabla se tienen datos acerca de la realización o suspensión de partidos de tenis en función del pronóstico del tiempo:\n",
    "\n",
    "\n",
    "<table>\n",
    "    <tbody>\n",
    "        <tr>\n",
    "            <td> </td>\n",
    "            <td>Pronóstico</td>\n",
    "            <td>Temperatura</td>\n",
    "            <td>Humedad</td>\n",
    "            <td>Viento</td>\n",
    "            <td>Juega</td>\n",
    "        </tr>\n",
    "        <tr>\n",
    "            <td>1</td><td>soleado</td><td>calor</td><td>alta</td><td>no</td><td>no</td>\n",
    "        </tr>\n",
    "        <tr>\n",
    "            <td>2</td><td>soleado</td><td>calor</td><td>alta</td><td>si</td><td>no</td>\n",
    "        </tr>\n",
    "        <tr>\n",
    "            <td>3</td><td>nublado</td><td>calor</td><td>alta</td><td>no</td><td>si</td>\n",
    "        </tr>\n",
    "        <tr>\n",
    "            <td>4</td><td>lluvioso</td><td>moderado</td><td>alta</td><td>no</td><td>si</td>\n",
    "        </tr>\n",
    "        <tr>\n",
    "            <td>5</td><td>lluvioso</td><td>frío</td><td>normal</td><td>no</td><td>si</td>\n",
    "        </tr>\n",
    "        <tr>\n",
    "            <td>6</td><td>lluvioso</td><td>frío</td><td>normal</td><td>si</td><td>no</td>\n",
    "        </tr>\n",
    "        <tr>\n",
    "            <td>7</td><td>nublado</td><td>frío</td><td>normal</td><td>si</td><td>si</td>\n",
    "        </tr>\n",
    "        <tr>\n",
    "            <td>8</td><td>soleado</td><td>moderado</td><td>alta</td><td>no</td><td>no</td>\n",
    "        </tr>\n",
    "        <tr>\n",
    "            <td>9</td><td>soleado</td><td>frío</td><td>normal</td><td>no</td><td>si</td>\n",
    "        </tr>\n",
    "        <tr>\n",
    "            <td>10</td><td>lluvioso</td><td>moderado</td><td>normal</td><td>no</td><td>si</td>\n",
    "        </tr>\n",
    "        <tr>\n",
    "            <td>11</td><td>soleado</td><td>moderado</td><td>normal</td><td>si</td><td>si</td>\n",
    "        </tr>\n",
    "        <tr>\n",
    "            <td>12</td><td>nublado</td><td>moderado</td><td>alta</td><td>si</td><td>si</td>\n",
    "        </tr>\n",
    "        <tr>\n",
    "            <td>13</td><td>nublado</td><td>calor</td><td>normal</td><td>no</td><td>si</td>\n",
    "        </tr>\n",
    "        <tr>\n",
    "            <td>14</td><td>lluvioso</td><td>moderado</td><td>alta</td><td>si</td><td>no</td>\n",
    "        </tr>\n",
    "    </tbody>\n",
    "</table>\n",
    "\n"
   ]
  },
  {
   "cell_type": "markdown",
   "id": "cdd1e7ac",
   "metadata": {},
   "source": [
    "1. Construya a mano (haciendo todas las cuentas) y dibuje en papel el árbol binario de decisión que describa los datos sobre juegos de tenis del cuadro.\n",
    "Utilice la impureza de entropía."
   ]
  },
  {
   "cell_type": "markdown",
   "id": "09176b11",
   "metadata": {},
   "source": [
    "2. Construya el árbol de decisión usando la clase `DecisionTreeClassifier`, para esto será necesario codificar los datos que se encuentran en el archivo `juego_tennis.csv`. Utilice `LabelEncoder`, `OrdinalEncoder` o `OneHotEncoder` pruebe distintas formas de codificar. Obtiene las mismas particiones que el árbol hecho a mano? Si o No? Por qué?"
   ]
  }
 ],
 "metadata": {
  "kernelspec": {
   "display_name": "Python 3 (ipykernel)",
   "language": "python",
   "name": "python3"
  },
  "language_info": {
   "codemirror_mode": {
    "name": "ipython",
    "version": 3
   },
   "file_extension": ".py",
   "mimetype": "text/x-python",
   "name": "python",
   "nbconvert_exporter": "python",
   "pygments_lexer": "ipython3",
   "version": "3.11.4"
  }
 },
 "nbformat": 4,
 "nbformat_minor": 5
}
